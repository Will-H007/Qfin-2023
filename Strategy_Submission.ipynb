{
  "nbformat": 4,
  "nbformat_minor": 0,
  "metadata": {
    "colab": {
      "provenance": []
    },
    "kernelspec": {
      "name": "python3",
      "display_name": "Python 3"
    },
    "language_info": {
      "name": "python"
    }
  },
  "cells": [
    {
      "cell_type": "code",
      "execution_count": null,
      "metadata": {
        "colab": {
          "base_uri": "https://localhost:8080/"
        },
        "id": "afLSQIYppwAj",
        "outputId": "7696ffe0-ea53-48e1-9dfb-c6a481b6c7b6"
      },
      "outputs": [
        {
          "output_type": "stream",
          "name": "stdout",
          "text": [
            "Looking in indexes: https://pypi.org/simple, https://us-python.pkg.dev/colab-wheels/public/simple/\n",
            "Requirement already satisfied: pandas in /usr/local/lib/python3.10/dist-packages (1.5.3)\n",
            "Requirement already satisfied: python-dateutil>=2.8.1 in /usr/local/lib/python3.10/dist-packages (from pandas) (2.8.2)\n",
            "Requirement already satisfied: pytz>=2020.1 in /usr/local/lib/python3.10/dist-packages (from pandas) (2022.7.1)\n",
            "Requirement already satisfied: numpy>=1.21.0 in /usr/local/lib/python3.10/dist-packages (from pandas) (1.22.4)\n",
            "Requirement already satisfied: six>=1.5 in /usr/local/lib/python3.10/dist-packages (from python-dateutil>=2.8.1->pandas) (1.16.0)\n",
            "Looking in indexes: https://pypi.org/simple, https://us-python.pkg.dev/colab-wheels/public/simple/\n",
            "Requirement already satisfied: numpy in /usr/local/lib/python3.10/dist-packages (1.22.4)\n",
            "Looking in indexes: https://pypi.org/simple, https://us-python.pkg.dev/colab-wheels/public/simple/\n",
            "Collecting qfinuwa\n",
            "  Downloading qfinuwa-1.1.9.2-py3-none-any.whl (23 kB)\n",
            "Requirement already satisfied: tqdm in /usr/local/lib/python3.10/dist-packages (from qfinuwa) (4.65.0)\n",
            "Requirement already satisfied: tabulate in /usr/local/lib/python3.10/dist-packages (from qfinuwa) (0.8.10)\n",
            "Requirement already satisfied: bokeh in /usr/local/lib/python3.10/dist-packages (from qfinuwa) (2.4.3)\n",
            "Requirement already satisfied: requests in /usr/local/lib/python3.10/dist-packages (from qfinuwa) (2.27.1)\n",
            "Requirement already satisfied: Jinja2>=2.9 in /usr/local/lib/python3.10/dist-packages (from bokeh->qfinuwa) (3.1.2)\n",
            "Requirement already satisfied: numpy>=1.11.3 in /usr/local/lib/python3.10/dist-packages (from bokeh->qfinuwa) (1.22.4)\n",
            "Requirement already satisfied: packaging>=16.8 in /usr/local/lib/python3.10/dist-packages (from bokeh->qfinuwa) (23.1)\n",
            "Requirement already satisfied: pillow>=7.1.0 in /usr/local/lib/python3.10/dist-packages (from bokeh->qfinuwa) (8.4.0)\n",
            "Requirement already satisfied: PyYAML>=3.10 in /usr/local/lib/python3.10/dist-packages (from bokeh->qfinuwa) (6.0)\n",
            "Requirement already satisfied: tornado>=5.1 in /usr/local/lib/python3.10/dist-packages (from bokeh->qfinuwa) (6.3.1)\n",
            "Requirement already satisfied: typing-extensions>=3.10.0 in /usr/local/lib/python3.10/dist-packages (from bokeh->qfinuwa) (4.5.0)\n",
            "Requirement already satisfied: urllib3<1.27,>=1.21.1 in /usr/local/lib/python3.10/dist-packages (from requests->qfinuwa) (1.26.15)\n",
            "Requirement already satisfied: certifi>=2017.4.17 in /usr/local/lib/python3.10/dist-packages (from requests->qfinuwa) (2022.12.7)\n",
            "Requirement already satisfied: charset-normalizer~=2.0.0 in /usr/local/lib/python3.10/dist-packages (from requests->qfinuwa) (2.0.12)\n",
            "Requirement already satisfied: idna<4,>=2.5 in /usr/local/lib/python3.10/dist-packages (from requests->qfinuwa) (3.4)\n",
            "Requirement already satisfied: MarkupSafe>=2.0 in /usr/local/lib/python3.10/dist-packages (from Jinja2>=2.9->bokeh->qfinuwa) (2.1.2)\n",
            "Installing collected packages: qfinuwa\n",
            "Successfully installed qfinuwa-1.1.9.2\n"
          ]
        }
      ],
      "source": [
        "%pip install pandas\n",
        "%pip install numpy\n",
        "%pip install qfinuwa"
      ]
    },
    {
      "cell_type": "code",
      "source": [
        "from qfinuwa import Backtester, Strategy, Indicators, Plotting, API\n",
        "import pandas as pd\n",
        "import numpy as np\n",
        "import os\n",
        "import math"
      ],
      "metadata": {
        "id": "7D--UesIqkzi"
      },
      "execution_count": null,
      "outputs": []
    },
    {
      "cell_type": "code",
      "source": [
        "# Accesses data files in google drive\n",
        "# from google.colab import drive\n",
        "# drive.mount('/content/drive')"
      ],
      "metadata": {
        "colab": {
          "base_uri": "https://localhost:8080/"
        },
        "id": "QE-srTy0TMf4",
        "outputId": "90075fde-34f5-4819-92b3-8add5f4a6eda"
      },
      "execution_count": null,
      "outputs": [
        {
          "output_type": "stream",
          "name": "stdout",
          "text": [
            "Mounted at /content/drive\n"
          ]
        }
      ]
    },
    {
      "cell_type": "code",
      "source": [
        "# measures how many standard deviations a value is away from the mean\n",
        "def zscore(series):\n",
        "    return (series - series.mean()) / np.std(series)"
      ],
      "metadata": {
        "id": "FPC-svWzj9pg"
      },
      "execution_count": null,
      "outputs": []
    },
    {
      "cell_type": "code",
      "source": [
        "stock2 = \"VGT\"\n",
        "stock1 = \"IYW\""
      ],
      "metadata": {
        "id": "D-yC0a6X-u9f"
      },
      "execution_count": null,
      "outputs": []
    },
    {
      "cell_type": "code",
      "source": [
        "class MyStrategy(Strategy):\n",
        "\n",
        "    def __init__(self, quantity=5, period = 15*390, std_open = 1, std_max = 1.5, std_close = 1, std_boost = 0.25):\n",
        "        self.quantity = quantity\n",
        "        self.default_quantity = quantity\n",
        "        self.period = period\n",
        "\n",
        "        self.std_open = std_open\n",
        "        self.std_max = std_max\n",
        "        self.std_close = std_close\n",
        "        self.std_boost = std_boost\n",
        "\n",
        "        # Things recorded manually\n",
        "        self.n_failed_orders = 0  # Number of failed trades\n",
        "        self.trade_price = 0      # Total price of all trades made\n",
        "        self.n_trades = 0         # Total trades made\n",
        "        self.pnl = 0\n",
        "\n",
        "    def on_data(self, prices, indicators, portfolio):\n",
        "      if len(prices['close'][stock1]) > self.period:\n",
        "\n",
        "        ratio = prices['close'][stock1]/prices['close'][stock2]\n",
        "        ratio_period = ratio[-self.period:]\n",
        "\n",
        "        if((abs(zscore(ratio_period)[-1]) > self.std_open) and (abs(zscore(ratio_period)[-1]) < self.std_max)):\n",
        "\n",
        "          if(abs(zscore(ratio_period)[-1]) > (self.std_open + self.std_boost)):\n",
        "            self.quantity = self.quantity*2\n",
        "\n",
        "          q = np.sign(zscore(ratio_period)[-1])\n",
        "\n",
        "          order_success = portfolio.order(stock1, quantity=-q*self.quantity)\n",
        "          if not order_success: self.n_failed_orders += 1\n",
        "          else:\n",
        "            self.trade_price += prices['close'][stock1][-1] * abs(self.quantity)\n",
        "            self.n_trades += 1\n",
        "            self.pnl += q * self.quantity * prices['close'][stock1][-1]\n",
        "\n",
        "          order_success = portfolio.order(stock2, quantity=q*self.quantity)\n",
        "          if not order_success: self.n_failed_orders += 1\n",
        "          else:\n",
        "            self.trade_price += prices['close'][stock2][-1] * abs(self.quantity)\n",
        "            self.n_trades += 1\n",
        "            self.pnl += -q * self.quantity * prices['close'][stock2][-1]\n",
        "\n",
        "        # Otherwise close position\n",
        "        elif(abs(zscore(ratio_period)[-1]) < self.std_open - self.std_close):     # 0 quantity trades can happen here\n",
        "\n",
        "          t = portfolio.delta[stock1]\n",
        "          order_success = portfolio.order(stock1, quantity= -portfolio.delta[stock1])\n",
        "          if not order_success: self.n_failed_orders += 1\n",
        "          else:\n",
        "            self.trade_price += prices['close'][stock1][-1] * abs(t)\n",
        "            self.n_trades += 1\n",
        "            self.pnl += t * prices['close'][stock1][-1]\n",
        "\n",
        "          t = portfolio.delta[stock2]\n",
        "          order_success = portfolio.order(stock2, quantity= -portfolio.delta[stock2])\n",
        "          if not order_success: self.n_failed_orders += 1\n",
        "          else:\n",
        "            self.trade_price += prices['close'][stock2][-1] * abs(t)\n",
        "            self.n_trades += 1\n",
        "            self.pnl += t * prices['close'][stock2][-1]\n",
        "\n",
        "\n",
        "        self.quantity = self.default_quantity\n",
        "\n",
        "\n",
        "\n",
        "    def on_finish(self):\n",
        "          # Added to results object - access using result.on_finish\n",
        "          return [self.n_failed_orders, self.trade_price, self.n_trades, self.pnl]"
      ],
      "metadata": {
        "id": "Pc8Cxq7qt9TJ"
      },
      "execution_count": null,
      "outputs": []
    },
    {
      "cell_type": "code",
      "source": [
        "class CustomIndicators(Indicators):\n",
        "    pass"
      ],
      "metadata": {
        "id": "ju2pAMAS0aVB"
      },
      "execution_count": null,
      "outputs": []
    },
    {
      "cell_type": "code",
      "source": [
        "# Will need to change the path\n",
        "backtester = Backtester(MyStrategy, CustomIndicators, [stock1, stock2],\n",
        "                        data_folder='./drive/MyDrive/Qfin 2023/Data', days='all')"
      ],
      "metadata": {
        "colab": {
          "base_uri": "https://localhost:8080/"
        },
        "id": "a5E0EjnmxELq",
        "outputId": "a4a23e60-73b5-44c5-e342-83e9be157af0"
      },
      "execution_count": null,
      "outputs": [
        {
          "output_type": "stream",
          "name": "stderr",
          "text": [
            "> Fetching data: 100%|██████████| 2/2 [00:00<00:00,  2.55it/s]\n",
            "> Precompiling data: 100%|██████████| 169299/169299 [00:01<00:00, 113048.61it/s]\n"
          ]
        }
      ]
    },
    {
      "cell_type": "code",
      "source": [
        "# Backtester\n",
        "\"\"\"\n",
        "backtester.fee = 0.002\n",
        "backtester.starting_balance = 10000\n",
        "backtester.days = 90\n",
        "backtester.delta_limit = 1000\n",
        "\n",
        "rand_seed = 2023\n",
        "\n",
        "output = backtester.run(cv=50, seed = rand_seed)\n",
        "output\n",
        "\"\"\""
      ],
      "metadata": {
        "id": "FqSt2snM_u54",
        "colab": {
          "base_uri": "https://localhost:8080/"
        },
        "outputId": "9d353238-139c-4ef4-eb55-b43c5e2b2446"
      },
      "execution_count": null,
      "outputs": [
        {
          "output_type": "stream",
          "name": "stderr",
          "text": [
            "> Running backtest over 50 samples of 90 days: 100%|██████████| 50/50 [05:40<00:00,  6.81s/it]\n"
          ]
        },
        {
          "output_type": "execute_result",
          "data": {
            "text/plain": [
              "\n",
              "{'strategy': {'quantity': 5, 'period': 5850, 'std_open': 1, 'std_max': 1.5, 'std_close': 1, 'std_boost': 0.25}, 'indicator': {}}\n",
              "\n",
              "Mean ROI:\t163514.92814698006\n",
              "STD ROI:\t205554.9452604806\n",
              "\n",
              "26/01/2022 -> 25/04/2022:\t274385.953\n",
              "14/03/2022 -> 10/06/2022:\t357258.125\n",
              "31/01/2022 -> 29/04/2022:\t360032.066\n",
              "08/12/2021 -> 07/03/2022:\t502956.396\n",
              "14/07/2022 -> 11/10/2022:\t344368.891\n",
              "14/06/2022 -> 09/09/2022:\t-78853.088\n",
              "21/12/2021 -> 18/03/2022:\t424332.697\n",
              "01/08/2022 -> 28/10/2022:\t191229.410\n",
              "30/06/2021 -> 27/09/2021:\t32476.122\n",
              "19/07/2021 -> 15/10/2021:\t-25170.779\n",
              "12/08/2022 -> 09/11/2022:\t362074.447\n",
              "26/11/2021 -> 23/02/2022:\t505068.356\n",
              "16/05/2022 -> 12/08/2022:\t-340636.889\n",
              "12/05/2022 -> 09/08/2022:\t-184383.920\n",
              "24/11/2021 -> 18/02/2022:\t388014.699\n",
              "26/08/2021 -> 23/11/2021:\t41001.670\n",
              "06/10/2021 -> 03/01/2022:\t5710.049\n",
              "25/08/2021 -> 22/11/2021:\t57444.225\n",
              "03/08/2022 -> 31/10/2022:\t199657.376\n",
              "29/04/2021 -> 27/07/2021:\t284172.754\n",
              "20/09/2021 -> 17/12/2021:\t-32422.554\n",
              "10/01/2022 -> 08/04/2022:\t170012.369\n",
              "08/06/2021 -> 03/09/2021:\t322097.488\n",
              "25/07/2022 -> 21/10/2022:\t297045.695\n",
              "20/07/2021 -> 15/10/2021:\t-23178.333\n",
              "14/05/2021 -> 11/08/2021:\t290197.268\n",
              "13/09/2021 -> 10/12/2021:\t7328.072\n",
              "10/08/2021 -> 05/11/2021:\t122654.701\n",
              "06/04/2022 -> 01/07/2022:\t320062.387\n",
              "23/12/2021 -> 22/03/2022:\t400164.467\n",
              "25/04/2022 -> 22/07/2022:\t34955.159\n",
              "04/06/2021 -> 01/09/2021:\t320827.356\n",
              "11/06/2021 -> 08/09/2021:\t206631.195\n",
              "19/05/2022 -> 16/08/2022:\t-380390.169\n",
              "24/03/2022 -> 21/06/2022:\t359210.708\n",
              "21/04/2022 -> 19/07/2022:\t65020.021\n",
              "10/05/2021 -> 06/08/2021:\t323895.032\n",
              "16/07/2021 -> 13/10/2021:\t-66767.884\n",
              "15/06/2022 -> 12/09/2022:\t-116177.020\n",
              "08/10/2021 -> 05/01/2022:\t149306.710\n",
              "19/07/2022 -> 14/10/2022:\t380891.205\n",
              "06/07/2021 -> 01/10/2021:\t-53221.089\n",
              "22/06/2022 -> 19/09/2022:\t19870.222\n",
              "10/06/2021 -> 07/09/2021:\t273529.923\n",
              "29/07/2021 -> 26/10/2021:\t12223.840\n",
              "28/01/2022 -> 27/04/2022:\t339237.469\n",
              "09/08/2022 -> 04/11/2022:\t353494.199\n",
              "15/09/2021 -> 13/12/2021:\t-13606.655\n",
              "08/07/2022 -> 05/10/2022:\t112439.105\n",
              "29/07/2022 -> 26/10/2022:\t279276.960\n",
              "\n",
              "AVERAGED RESULTS FOR 50 RUNS:\n",
              "|               |      IYW |     VGT |     Net |\n",
              "|---------------|----------|---------|---------|\n",
              "| n_trades      |  3488.62 | 3488.62 | 6977.24 |\n",
              "| n_buys        |  1928.22 |  1560.4 | 3488.62 |\n",
              "| n_sells       |   1560.4 | 1928.22 | 3488.62 |\n",
              "| gross_pnl     | -76015.2 |  272041 |  196026 |\n",
              "| fees_paid     |  6480.07 | 26030.9 | 32510.9 |\n",
              "| net_pnl       | -82495.3 |  246010 |  163515 |\n",
              "| pnl_per_trade | -28.4867 | 85.7887 |  28.651 |"
            ]
          },
          "metadata": {},
          "execution_count": 15
        }
      ]
    }
  ]
}